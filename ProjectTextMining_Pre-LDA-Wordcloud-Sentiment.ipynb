{
 "cells": [
  {
   "cell_type": "markdown",
   "metadata": {},
   "source": [
    "# <div align=center> Project Text Mining </div>"
   ]
  },
  {
   "cell_type": "code",
   "execution_count": 221,
   "metadata": {},
   "outputs": [],
   "source": [
    "import nltk\n",
    "import pandas as pd\n",
    "from nltk.corpus import brown #we kunnen hier ook een andere gebruiken ipv brown\n",
    "from nltk.corpus import stopwords\n",
    "import string\n",
    "from nltk.stem.porter import PorterStemmer\n",
    "import time\n",
    "import gensim\n",
    "from sklearn.model_selection import train_test_split\n",
    "from PIL import Image\n",
    "from os import path\n",
    "from wordcloud import WordCloud, STOPWORDS, ImageColorGenerator\n",
    "import gensim\n",
    "from nltk.sentiment import vader\n",
    "from nltk.sentiment.vader import SentimentIntensityAnalyzer\n",
    "import spacy\n",
    "from langdetect import detect\n",
    "import collections as c\n",
    "import matplotlib.pyplot as plt\n",
    "from gensim.models import LdaModel\n",
    "import random"
   ]
  },
  {
   "cell_type": "code",
   "execution_count": 2,
   "metadata": {},
   "outputs": [],
   "source": [
    "#nltk.download() "
   ]
  },
  {
   "cell_type": "code",
   "execution_count": 3,
   "metadata": {},
   "outputs": [],
   "source": [
    "nlp = spacy.load('en_core_web_sm') # en_core_web_sm"
   ]
  },
  {
   "cell_type": "code",
   "execution_count": 211,
   "metadata": {},
   "outputs": [],
   "source": [
    "english_stopwords = stopwords.words('english')\n",
    "set_english_stopwords = set(english_stopwords)\n",
    "useful_pos = ['NN', 'NNS', 'NNP', 'NNPS', 'VB', 'VBD', 'VBG', 'VBN', 'VBP', 'VBZ', 'JJ', 'JJR', 'JJS']\n",
    "punctuation_table = {ord(char): '' for char in string.punctuation}\n",
    "porter = PorterStemmer()\n",
    "vader_model = SentimentIntensityAnalyzer()\n",
    "nonsense_artists = ['dicaiaaoi-aeaenaiad', 'adaaeaaineay-iaidiia', 'butterfly-temple', 'eica-thdee',\n",
    "                    'eaoei-iaaae', 'eidieu-e-ooo', 'aoeouii', 'eaniiiaae', 'active-member', 'aa',\n",
    "                    'denyo', 'aeaadeoi', 'aao', 'ciiiade', 'aeneioaea-aaadey', 'aeena', 'dd-ddeg-dnddeg',\n",
    "                    'galena', 'caioeda', 'eaeeiia-iino', 'eeii', 'aaid-eaoia', 'edaiaoidee', 'daciia',\n",
    "                    'civil', 'eyien-odoaaoeie', 'diiainu', 'caoee-io', 'the-early-bird-specials', 'ethay',\n",
    "                    'adey', 'eaai-eoiaea']"
   ]
  },
  {
   "cell_type": "markdown",
   "metadata": {},
   "source": [
    "**Function for preprocessing the lyrics**"
   ]
  },
  {
   "cell_type": "code",
   "execution_count": 246,
   "metadata": {},
   "outputs": [],
   "source": [
    "def preprocessing(lyrics):\n",
    "    #Lower case and tokenize the words in the lyrics\n",
    "    tokenized = nltk.word_tokenize(lyrics.lower())\n",
    "    \n",
    "    #POS tag the tokens\n",
    "    tagged = nltk.pos_tag(tokenized)\n",
    "    \n",
    "    #Get all verbs, nouns and adjectives\n",
    "    #Remove stopwords and punctuation, and stem the tokens\n",
    "    #Remove empty strings and short (len < 2) tokens\n",
    "\n",
    "    preprocessed_lyrics = []\n",
    "    for token in tagged:\n",
    "        if token[1] in useful_pos and token[0] not in set_english_stopwords:\n",
    "            token_clean = porter.stem(token[0].translate(punctuation_table)) #also remove punctuation\n",
    "            if len(token_clean) > 2:\n",
    "                preprocessed_lyrics.append(token_clean)\n",
    "            else:\n",
    "                continue\n",
    "\n",
    "    return preprocessed_lyrics"
   ]
  },
  {
   "cell_type": "markdown",
   "metadata": {},
   "source": [
    "**Function for changing the vader sentiment output to a label**"
   ]
  },
  {
   "cell_type": "code",
   "execution_count": 210,
   "metadata": {},
   "outputs": [],
   "source": [
    "def vader_output_to_label(vader_output):\n",
    "    \"\"\"\n",
    "    map vader output e.g.,\n",
    "    {'neg': 0.0, 'neu': 0.0, 'pos': 1.0, 'compound': 0.4215}\n",
    "    to one of the following values:\n",
    "    a) positive float -> 'positive'\n",
    "    b) 0.0 -> 'neutral'\n",
    "    c) negative float -> 'negative'\n",
    "    \n",
    "    :param dict vader_output: output dict from vader\n",
    "    \n",
    "    :rtype: str\n",
    "    :return: 'negative' | 'neutral' | 'positive'\n",
    "    \"\"\"\n",
    "    compound = vader_output['compound']\n",
    "    \n",
    "    if compound < 0:\n",
    "        return 'negative'\n",
    "    elif compound == 0.0:\n",
    "        return 'neutral'\n",
    "    elif compound > 0.0:\n",
    "        return 'positive'\n",
    "    \n",
    "assert vader_output_to_label( {'neg': 0.0, 'neu': 0.0, 'pos': 1.0, 'compound': 0.0}) == 'neutral'\n",
    "assert vader_output_to_label( {'neg': 0.0, 'neu': 0.0, 'pos': 1.0, 'compound': 0.01}) == 'positive'\n",
    "assert vader_output_to_label( {'neg': 0.0, 'neu': 0.0, 'pos': 1.0, 'compound': -0.01}) == 'negative'"
   ]
  },
  {
   "cell_type": "markdown",
   "metadata": {},
   "source": [
    "**Read the dataset**"
   ]
  },
  {
   "cell_type": "code",
   "execution_count": 247,
   "metadata": {},
   "outputs": [],
   "source": [
    "#Data van deze kaggle: https://www.kaggle.com/gyani95/380000-lyrics-from-metrolyrics/kernels\n",
    "#380,000+ lyrics from MetroLyrics\n",
    "#Lyrics, Artist , Genre, Year\n",
    "data = pd.read_csv('lyrics.csv', usecols=['song', 'year', 'artist', 'genre', 'lyrics'], error_bad_lines=False)"
   ]
  },
  {
   "cell_type": "code",
   "execution_count": 248,
   "metadata": {},
   "outputs": [],
   "source": [
    "#preprocessing(data['lyrics'].iloc[25])"
   ]
  },
  {
   "cell_type": "code",
   "execution_count": 249,
   "metadata": {},
   "outputs": [
    {
     "data": {
      "text/plain": [
       "', ,\\n,\\n, ,\\n.\\n,\\n.\\n.\\n, , : \" !\"\\n, .\\n, , .\\n, , !\\n.\\n:\\n, .\\n, - , ,\\n.\\n.\\n-, , .\\n, !...\\n, , !\\n!\\n-, , .\\n, , !\\n... !'"
      ]
     },
     "execution_count": 249,
     "metadata": {},
     "output_type": "execute_result"
    }
   ],
   "source": [
    "# Strange lyric from nonsense artist list\n",
    "data['lyrics'].iloc[101685]"
   ]
  },
  {
   "cell_type": "code",
   "execution_count": 250,
   "metadata": {},
   "outputs": [
    {
     "data": {
      "text/html": [
       "<div>\n",
       "<style scoped>\n",
       "    .dataframe tbody tr th:only-of-type {\n",
       "        vertical-align: middle;\n",
       "    }\n",
       "\n",
       "    .dataframe tbody tr th {\n",
       "        vertical-align: top;\n",
       "    }\n",
       "\n",
       "    .dataframe thead th {\n",
       "        text-align: right;\n",
       "    }\n",
       "</style>\n",
       "<table border=\"1\" class=\"dataframe\">\n",
       "  <thead>\n",
       "    <tr style=\"text-align: right;\">\n",
       "      <th></th>\n",
       "      <th>song</th>\n",
       "      <th>year</th>\n",
       "      <th>artist</th>\n",
       "      <th>genre</th>\n",
       "      <th>lyrics</th>\n",
       "    </tr>\n",
       "  </thead>\n",
       "  <tbody>\n",
       "    <tr>\n",
       "      <td>0</td>\n",
       "      <td>ego-remix</td>\n",
       "      <td>2009</td>\n",
       "      <td>beyonce-knowles</td>\n",
       "      <td>Pop</td>\n",
       "      <td>Oh baby, how you doing?\\nYou know I'm gonna cu...</td>\n",
       "    </tr>\n",
       "    <tr>\n",
       "      <td>1</td>\n",
       "      <td>then-tell-me</td>\n",
       "      <td>2009</td>\n",
       "      <td>beyonce-knowles</td>\n",
       "      <td>Pop</td>\n",
       "      <td>playin' everything so easy,\\nit's like you see...</td>\n",
       "    </tr>\n",
       "    <tr>\n",
       "      <td>2</td>\n",
       "      <td>honesty</td>\n",
       "      <td>2009</td>\n",
       "      <td>beyonce-knowles</td>\n",
       "      <td>Pop</td>\n",
       "      <td>If you search\\nFor tenderness\\nIt isn't hard t...</td>\n",
       "    </tr>\n",
       "    <tr>\n",
       "      <td>3</td>\n",
       "      <td>you-are-my-rock</td>\n",
       "      <td>2009</td>\n",
       "      <td>beyonce-knowles</td>\n",
       "      <td>Pop</td>\n",
       "      <td>Oh oh oh I, oh oh oh I\\n[Verse 1:]\\nIf I wrote...</td>\n",
       "    </tr>\n",
       "    <tr>\n",
       "      <td>4</td>\n",
       "      <td>black-culture</td>\n",
       "      <td>2009</td>\n",
       "      <td>beyonce-knowles</td>\n",
       "      <td>Pop</td>\n",
       "      <td>Party the people, the people the party it's po...</td>\n",
       "    </tr>\n",
       "  </tbody>\n",
       "</table>\n",
       "</div>"
      ],
      "text/plain": [
       "              song  year           artist genre  \\\n",
       "0        ego-remix  2009  beyonce-knowles   Pop   \n",
       "1     then-tell-me  2009  beyonce-knowles   Pop   \n",
       "2          honesty  2009  beyonce-knowles   Pop   \n",
       "3  you-are-my-rock  2009  beyonce-knowles   Pop   \n",
       "4    black-culture  2009  beyonce-knowles   Pop   \n",
       "\n",
       "                                              lyrics  \n",
       "0  Oh baby, how you doing?\\nYou know I'm gonna cu...  \n",
       "1  playin' everything so easy,\\nit's like you see...  \n",
       "2  If you search\\nFor tenderness\\nIt isn't hard t...  \n",
       "3  Oh oh oh I, oh oh oh I\\n[Verse 1:]\\nIf I wrote...  \n",
       "4  Party the people, the people the party it's po...  "
      ]
     },
     "execution_count": 250,
     "metadata": {},
     "output_type": "execute_result"
    }
   ],
   "source": [
    "# Show first 5 rows\n",
    "data.head()"
   ]
  },
  {
   "cell_type": "markdown",
   "metadata": {},
   "source": [
    "**Remove unusable lyrics**  \n",
    "Some lyrics are empty or extremely short/long and some lyrics have a genre 'Not Available' or 'other'.\n",
    "These are removed from the dataset."
   ]
  },
  {
   "cell_type": "code",
   "execution_count": 251,
   "metadata": {},
   "outputs": [
    {
     "name": "stdout",
     "output_type": "stream",
     "text": [
      "['Pop', 'Hip-Hop', 'Not Available', 'Other', 'Rock', 'Metal', 'Country', 'Jazz', 'Electronic', 'Folk', 'R&B', 'Indie']\n"
     ]
    }
   ],
   "source": [
    "#Genres before removing 'Not Available' and 'Other', and the unusable lyrics\n",
    "genres = []\n",
    "for genre in data['genre']:\n",
    "    if genre not in genres:\n",
    "        genres.append(genre)\n",
    "\n",
    "print(genres)"
   ]
  },
  {
   "cell_type": "code",
   "execution_count": 252,
   "metadata": {},
   "outputs": [],
   "source": [
    "to_remove_ids = []\n",
    "for i in range(0, data.shape[0]):\n",
    "\n",
    "    artist = data['artist'].iloc[i]\n",
    "    lyric = data['lyrics'].iloc[i]\n",
    "    genre = data['genre'].iloc[i]\n",
    "\n",
    "    if artist in nonsense_artists:\n",
    "        to_remove_ids.append(i)\n",
    "        continue\n",
    "    elif type(lyric) != str:\n",
    "        to_remove_ids.append(i)\n",
    "        continue\n",
    "    elif len(lyric.split()) < 40:\n",
    "        to_remove_ids.append(i)\n",
    "        continue\n",
    "    elif len(lyric.split()) >= 1000:\n",
    "        to_remove_ids.append(i)\n",
    "        continue\n",
    "    elif genre == 'Not Available':\n",
    "        to_remove_ids.append(i)\n",
    "    elif genre == 'Other':\n",
    "        to_remove_ids.append(i)\n",
    "    elif genre == 'Country':\n",
    "        to_remove_ids.append(i)\n",
    "    elif genre == 'Jazz':\n",
    "        to_remove_ids.append(i)\n",
    "    elif genre == 'Electronic':\n",
    "        to_remove_ids.append(i)\n",
    "    elif genre == 'R&B':\n",
    "        to_remove_ids.append(i)\n",
    "    elif genre == 'Indie':\n",
    "        to_remove_ids.append(i)\n",
    "    elif genre == 'Folk':\n",
    "        to_remove_ids.append(i)\n",
    "        continue\n",
    "\n",
    "    lyrics_language = detect(lyric[:200])\n",
    "    if lyrics_language != 'en':\n",
    "        to_remove_ids.append(i)\n"
   ]
  },
  {
   "cell_type": "code",
   "execution_count": 253,
   "metadata": {},
   "outputs": [
    {
     "name": "stdout",
     "output_type": "stream",
     "text": [
      "[24, 31, 32, 43, 47, 48, 49, 85, 89, 95, 101, 113, 149, 158, 181, 188, 189, 206, 231, 305]\n",
      "number of songs to remove: 186845\n",
      "<class 'list'>\n",
      "(175392, 5)\n"
     ]
    }
   ],
   "source": [
    "#Remove the lyrics from the dataframe as determined above\n",
    "to_remove_ids = list(dict.fromkeys(to_remove_ids))\n",
    "print(to_remove_ids[:20])\n",
    "print(\"number of songs to remove:\", len(to_remove_ids))\n",
    "print(type(to_remove_ids))\n",
    "\n",
    "data = data.drop(to_remove_ids)\n",
    "print(data.shape)"
   ]
  },
  {
   "cell_type": "code",
   "execution_count": 254,
   "metadata": {},
   "outputs": [],
   "source": [
    "# Create new csv file with cleaned dataset\n",
    "\n",
    "data.to_csv('data_schoon_index_false.csv', index = False, header=True)"
   ]
  },
  {
   "cell_type": "code",
   "execution_count": 108,
   "metadata": {},
   "outputs": [],
   "source": [
    "# Read the new csv file with the cleaned data (only necessary if the code above hasn't been run)\n",
    "\n",
    "data = pd.read_csv('data_schoon_index_false.csv', usecols=['song', 'year', 'artist', 'genre', 'lyrics'])\n",
    "data['index'] = data.index"
   ]
  },
  {
   "cell_type": "code",
   "execution_count": 109,
   "metadata": {},
   "outputs": [
    {
     "data": {
      "text/html": [
       "<div>\n",
       "<style scoped>\n",
       "    .dataframe tbody tr th:only-of-type {\n",
       "        vertical-align: middle;\n",
       "    }\n",
       "\n",
       "    .dataframe tbody tr th {\n",
       "        vertical-align: top;\n",
       "    }\n",
       "\n",
       "    .dataframe thead th {\n",
       "        text-align: right;\n",
       "    }\n",
       "</style>\n",
       "<table border=\"1\" class=\"dataframe\">\n",
       "  <thead>\n",
       "    <tr style=\"text-align: right;\">\n",
       "      <th></th>\n",
       "      <th>song</th>\n",
       "      <th>year</th>\n",
       "      <th>artist</th>\n",
       "      <th>genre</th>\n",
       "      <th>lyrics</th>\n",
       "      <th>index</th>\n",
       "    </tr>\n",
       "  </thead>\n",
       "  <tbody>\n",
       "    <tr>\n",
       "      <td>0</td>\n",
       "      <td>ego-remix</td>\n",
       "      <td>2009</td>\n",
       "      <td>beyonce-knowles</td>\n",
       "      <td>Pop</td>\n",
       "      <td>Oh baby, how you doing?\\nYou know I'm gonna cu...</td>\n",
       "      <td>0</td>\n",
       "    </tr>\n",
       "    <tr>\n",
       "      <td>1</td>\n",
       "      <td>then-tell-me</td>\n",
       "      <td>2009</td>\n",
       "      <td>beyonce-knowles</td>\n",
       "      <td>Pop</td>\n",
       "      <td>playin' everything so easy,\\nit's like you see...</td>\n",
       "      <td>1</td>\n",
       "    </tr>\n",
       "    <tr>\n",
       "      <td>2</td>\n",
       "      <td>honesty</td>\n",
       "      <td>2009</td>\n",
       "      <td>beyonce-knowles</td>\n",
       "      <td>Pop</td>\n",
       "      <td>If you search\\nFor tenderness\\nIt isn't hard t...</td>\n",
       "      <td>2</td>\n",
       "    </tr>\n",
       "    <tr>\n",
       "      <td>3</td>\n",
       "      <td>you-are-my-rock</td>\n",
       "      <td>2009</td>\n",
       "      <td>beyonce-knowles</td>\n",
       "      <td>Pop</td>\n",
       "      <td>Oh oh oh I, oh oh oh I\\n[Verse 1:]\\nIf I wrote...</td>\n",
       "      <td>3</td>\n",
       "    </tr>\n",
       "    <tr>\n",
       "      <td>4</td>\n",
       "      <td>black-culture</td>\n",
       "      <td>2009</td>\n",
       "      <td>beyonce-knowles</td>\n",
       "      <td>Pop</td>\n",
       "      <td>Party the people, the people the party it's po...</td>\n",
       "      <td>4</td>\n",
       "    </tr>\n",
       "  </tbody>\n",
       "</table>\n",
       "</div>"
      ],
      "text/plain": [
       "              song  year           artist genre  \\\n",
       "0        ego-remix  2009  beyonce-knowles   Pop   \n",
       "1     then-tell-me  2009  beyonce-knowles   Pop   \n",
       "2          honesty  2009  beyonce-knowles   Pop   \n",
       "3  you-are-my-rock  2009  beyonce-knowles   Pop   \n",
       "4    black-culture  2009  beyonce-knowles   Pop   \n",
       "\n",
       "                                              lyrics  index  \n",
       "0  Oh baby, how you doing?\\nYou know I'm gonna cu...      0  \n",
       "1  playin' everything so easy,\\nit's like you see...      1  \n",
       "2  If you search\\nFor tenderness\\nIt isn't hard t...      2  \n",
       "3  Oh oh oh I, oh oh oh I\\n[Verse 1:]\\nIf I wrote...      3  \n",
       "4  Party the people, the people the party it's po...      4  "
      ]
     },
     "execution_count": 109,
     "metadata": {},
     "output_type": "execute_result"
    }
   ],
   "source": [
    "data.head()"
   ]
  },
  {
   "cell_type": "code",
   "execution_count": 110,
   "metadata": {},
   "outputs": [
    {
     "data": {
      "text/plain": [
       "(175392, 6)"
      ]
     },
     "execution_count": 110,
     "metadata": {},
     "output_type": "execute_result"
    }
   ],
   "source": [
    "data.shape"
   ]
  },
  {
   "cell_type": "code",
   "execution_count": null,
   "metadata": {},
   "outputs": [],
   "source": []
  },
  {
   "cell_type": "code",
   "execution_count": 111,
   "metadata": {},
   "outputs": [
    {
     "name": "stdout",
     "output_type": "stream",
     "text": [
      "['Pop', 'Hip-Hop', 'Rock', 'Metal']\n"
     ]
    }
   ],
   "source": [
    "#Genres after filterering to check if all genre are still represented.\n",
    "genres = []\n",
    "for genre in data['genre']:\n",
    "    if genre not in genres:\n",
    "        genres.append(genre)\n",
    "\n",
    "print(genres)"
   ]
  },
  {
   "cell_type": "code",
   "execution_count": 112,
   "metadata": {},
   "outputs": [
    {
     "name": "stdout",
     "output_type": "stream",
     "text": [
      "(175392, 6)\n"
     ]
    }
   ],
   "source": [
    "data_original = data\n",
    "print(data_original.shape)"
   ]
  },
  {
   "cell_type": "markdown",
   "metadata": {},
   "source": [
    "**Take a sample from the dataset**  \n",
    "The dataset consists of 175425 songs (after removing 'nonsense' data).\n",
    "The code takes a long time to run for all songs, therefore a sample set is taken to work on the code.\n",
    "Undersampling is used to get even samples from the four genres."
   ]
  },
  {
   "cell_type": "code",
   "execution_count": 264,
   "metadata": {},
   "outputs": [
    {
     "data": {
      "text/plain": [
       "Rock       98782\n",
       "Pop        34054\n",
       "Hip-Hop    21966\n",
       "Metal      20590\n",
       "Name: genre, dtype: int64"
      ]
     },
     "execution_count": 264,
     "metadata": {},
     "output_type": "execute_result"
    }
   ],
   "source": [
    "# Print the amount of songs from each genre\n",
    "data['genre'].value_counts()"
   ]
  },
  {
   "cell_type": "code",
   "execution_count": null,
   "metadata": {},
   "outputs": [],
   "source": []
  },
  {
   "cell_type": "code",
   "execution_count": 265,
   "metadata": {},
   "outputs": [
    {
     "data": {
      "text/plain": [
       "(82360, 6)"
      ]
     },
     "execution_count": 265,
     "metadata": {},
     "output_type": "execute_result"
    }
   ],
   "source": [
    "# Undersample the rock genre by taking the same amount of samples from each genre randomly\n",
    "# The smallest sample set is Metal, so this will be used as the sample size for each genre.\n",
    "data['grouped genre'] = data['genre']\n",
    "sample_size = 20590\n",
    "data_undersampled = data.groupby('grouped genre').apply(lambda x: x.sample(sample_size))\n",
    "data_undersampled = data_undersampled.drop(columns='grouped genre')\n",
    "data = data.drop(columns='grouped genre')\n",
    "data_undersampled.shape"
   ]
  },
  {
   "cell_type": "code",
   "execution_count": 266,
   "metadata": {},
   "outputs": [
    {
     "data": {
      "text/html": [
       "<div>\n",
       "<style scoped>\n",
       "    .dataframe tbody tr th:only-of-type {\n",
       "        vertical-align: middle;\n",
       "    }\n",
       "\n",
       "    .dataframe tbody tr th {\n",
       "        vertical-align: top;\n",
       "    }\n",
       "\n",
       "    .dataframe thead th {\n",
       "        text-align: right;\n",
       "    }\n",
       "</style>\n",
       "<table border=\"1\" class=\"dataframe\">\n",
       "  <thead>\n",
       "    <tr style=\"text-align: right;\">\n",
       "      <th></th>\n",
       "      <th></th>\n",
       "      <th>song</th>\n",
       "      <th>year</th>\n",
       "      <th>artist</th>\n",
       "      <th>genre</th>\n",
       "      <th>lyrics</th>\n",
       "      <th>index</th>\n",
       "    </tr>\n",
       "    <tr>\n",
       "      <th>grouped genre</th>\n",
       "      <th></th>\n",
       "      <th></th>\n",
       "      <th></th>\n",
       "      <th></th>\n",
       "      <th></th>\n",
       "      <th></th>\n",
       "      <th></th>\n",
       "    </tr>\n",
       "  </thead>\n",
       "  <tbody>\n",
       "    <tr>\n",
       "      <td rowspan=\"5\" valign=\"top\">Hip-Hop</td>\n",
       "      <td>15161</td>\n",
       "      <td>this-life</td>\n",
       "      <td>2006</td>\n",
       "      <td>bone-thugs-n-harmony</td>\n",
       "      <td>Hip-Hop</td>\n",
       "      <td>You don't want to live this life\\nNo, this lif...</td>\n",
       "      <td>15161</td>\n",
       "    </tr>\n",
       "    <tr>\n",
       "      <td>100660</td>\n",
       "      <td>panda-charlie-heat-version</td>\n",
       "      <td>2016</td>\n",
       "      <td>desiigner</td>\n",
       "      <td>Hip-Hop</td>\n",
       "      <td>This what they all been waiting for\\nI guess s...</td>\n",
       "      <td>100660</td>\n",
       "    </tr>\n",
       "    <tr>\n",
       "      <td>56781</td>\n",
       "      <td>between-the-lines</td>\n",
       "      <td>2010</td>\n",
       "      <td>chris-brown</td>\n",
       "      <td>Hip-Hop</td>\n",
       "      <td>Was it something I said\\nWas it something I di...</td>\n",
       "      <td>56781</td>\n",
       "    </tr>\n",
       "    <tr>\n",
       "      <td>167707</td>\n",
       "      <td>how-much-we-grew</td>\n",
       "      <td>2006</td>\n",
       "      <td>busta-rhymes</td>\n",
       "      <td>Hip-Hop</td>\n",
       "      <td>Yeah this next joint right here\\nIs dedicated ...</td>\n",
       "      <td>167707</td>\n",
       "    </tr>\n",
       "    <tr>\n",
       "      <td>58423</td>\n",
       "      <td>young-og</td>\n",
       "      <td>2013</td>\n",
       "      <td>fabolous</td>\n",
       "      <td>Hip-Hop</td>\n",
       "      <td>Troubled tears, they'll land you there\\nOpen y...</td>\n",
       "      <td>58423</td>\n",
       "    </tr>\n",
       "  </tbody>\n",
       "</table>\n",
       "</div>"
      ],
      "text/plain": [
       "                                            song  year                artist  \\\n",
       "grouped genre                                                                  \n",
       "Hip-Hop       15161                    this-life  2006  bone-thugs-n-harmony   \n",
       "              100660  panda-charlie-heat-version  2016             desiigner   \n",
       "              56781            between-the-lines  2010           chris-brown   \n",
       "              167707            how-much-we-grew  2006          busta-rhymes   \n",
       "              58423                     young-og  2013              fabolous   \n",
       "\n",
       "                        genre  \\\n",
       "grouped genre                   \n",
       "Hip-Hop       15161   Hip-Hop   \n",
       "              100660  Hip-Hop   \n",
       "              56781   Hip-Hop   \n",
       "              167707  Hip-Hop   \n",
       "              58423   Hip-Hop   \n",
       "\n",
       "                                                                 lyrics  \\\n",
       "grouped genre                                                             \n",
       "Hip-Hop       15161   You don't want to live this life\\nNo, this lif...   \n",
       "              100660  This what they all been waiting for\\nI guess s...   \n",
       "              56781   Was it something I said\\nWas it something I di...   \n",
       "              167707  Yeah this next joint right here\\nIs dedicated ...   \n",
       "              58423   Troubled tears, they'll land you there\\nOpen y...   \n",
       "\n",
       "                       index  \n",
       "grouped genre                 \n",
       "Hip-Hop       15161    15161  \n",
       "              100660  100660  \n",
       "              56781    56781  \n",
       "              167707  167707  \n",
       "              58423    58423  "
      ]
     },
     "execution_count": 266,
     "metadata": {},
     "output_type": "execute_result"
    }
   ],
   "source": [
    "data_undersampled.head()"
   ]
  },
  {
   "cell_type": "code",
   "execution_count": 267,
   "metadata": {},
   "outputs": [
    {
     "data": {
      "text/plain": [
       "Metal      20590\n",
       "Rock       20590\n",
       "Hip-Hop    20590\n",
       "Pop        20590\n",
       "Name: genre, dtype: int64"
      ]
     },
     "execution_count": 267,
     "metadata": {},
     "output_type": "execute_result"
    }
   ],
   "source": [
    "# Print the amount of songs from each genre after sampling\n",
    "data_undersampled['genre'].value_counts()"
   ]
  },
  {
   "cell_type": "markdown",
   "metadata": {},
   "source": [
    "**Preprocess the lyrics**    \n",
    "Preprocess the lyrics using the function 'preprocessing' function from the top of the notebook."
   ]
  },
  {
   "cell_type": "code",
   "execution_count": 268,
   "metadata": {},
   "outputs": [],
   "source": [
    "preprocessed_data = data_undersampled['lyrics'].map(preprocessing)"
   ]
  },
  {
   "cell_type": "code",
   "execution_count": 234,
   "metadata": {},
   "outputs": [],
   "source": [
    "# preprocessed_data['indexmaybe'] = preprocessed_data.index\n",
    "# preprocessed_data.head()"
   ]
  },
  {
   "cell_type": "code",
   "execution_count": 269,
   "metadata": {},
   "outputs": [
    {
     "data": {
      "text/plain": [
       "pandas.core.series.Series"
      ]
     },
     "execution_count": 269,
     "metadata": {},
     "output_type": "execute_result"
    }
   ],
   "source": [
    "type(preprocessed_data)"
   ]
  },
  {
   "cell_type": "code",
   "execution_count": 270,
   "metadata": {},
   "outputs": [
    {
     "data": {
      "text/plain": [
       "grouped genre        \n",
       "Hip-Hop        15161     [want, live, life, life, nice, want, live, lif...\n",
       "               100660    [wait, guess, wait, shit, long, time, ima, giv...\n",
       "               56781     [someth, said, someth, look, answer, caus, kno...\n",
       "               167707    [yeah, next, joint, right, dedic, nigga, love,...\n",
       "               58423     [troubl, tear, land, open, eye, disguis, fear,...\n",
       "               60498     [put, come, jojo, hahaha, yeah, type, shit, th...\n",
       "               113906    [hot, sun, undon, readi, run, look, barrel, sh...\n",
       "               59700     [know, wan, ride, tonight, night, shotgun, cou...\n",
       "               87302     [talib, kweli, place, doom, talib, kweli, born...\n",
       "               108700    [push, king, new, york, see, gangster, tri, ri...\n",
       "Name: lyrics, dtype: object"
      ]
     },
     "execution_count": 270,
     "metadata": {},
     "output_type": "execute_result"
    }
   ],
   "source": [
    "preprocessed_data[:10]"
   ]
  },
  {
   "cell_type": "code",
   "execution_count": 271,
   "metadata": {},
   "outputs": [
    {
     "data": {
      "text/plain": [
       "grouped genre        \n",
       "Hip-Hop        15161     [want, live, life, life, nice, want, live, lif...\n",
       "               100660    [wait, guess, wait, shit, long, time, ima, giv...\n",
       "               56781     [someth, said, someth, look, answer, caus, kno...\n",
       "               167707    [yeah, next, joint, right, dedic, nigga, love,...\n",
       "               58423     [troubl, tear, land, open, eye, disguis, fear,...\n",
       "Name: lyrics, dtype: object"
      ]
     },
     "execution_count": 271,
     "metadata": {},
     "output_type": "execute_result"
    }
   ],
   "source": [
    "preprocessed_clean_series = preprocessed_data\n",
    "preprocessed_clean_series.head()"
   ]
  },
  {
   "cell_type": "code",
   "execution_count": 272,
   "metadata": {},
   "outputs": [],
   "source": [
    "data_undersampled['processed lyrics'] = preprocessed_clean_series"
   ]
  },
  {
   "cell_type": "code",
   "execution_count": 273,
   "metadata": {},
   "outputs": [
    {
     "data": {
      "text/html": [
       "<div>\n",
       "<style scoped>\n",
       "    .dataframe tbody tr th:only-of-type {\n",
       "        vertical-align: middle;\n",
       "    }\n",
       "\n",
       "    .dataframe tbody tr th {\n",
       "        vertical-align: top;\n",
       "    }\n",
       "\n",
       "    .dataframe thead th {\n",
       "        text-align: right;\n",
       "    }\n",
       "</style>\n",
       "<table border=\"1\" class=\"dataframe\">\n",
       "  <thead>\n",
       "    <tr style=\"text-align: right;\">\n",
       "      <th></th>\n",
       "      <th></th>\n",
       "      <th>song</th>\n",
       "      <th>year</th>\n",
       "      <th>artist</th>\n",
       "      <th>genre</th>\n",
       "      <th>lyrics</th>\n",
       "      <th>index</th>\n",
       "      <th>processed lyrics</th>\n",
       "    </tr>\n",
       "    <tr>\n",
       "      <th>grouped genre</th>\n",
       "      <th></th>\n",
       "      <th></th>\n",
       "      <th></th>\n",
       "      <th></th>\n",
       "      <th></th>\n",
       "      <th></th>\n",
       "      <th></th>\n",
       "      <th></th>\n",
       "    </tr>\n",
       "  </thead>\n",
       "  <tbody>\n",
       "    <tr>\n",
       "      <td rowspan=\"5\" valign=\"top\">Hip-Hop</td>\n",
       "      <td>15161</td>\n",
       "      <td>this-life</td>\n",
       "      <td>2006</td>\n",
       "      <td>bone-thugs-n-harmony</td>\n",
       "      <td>Hip-Hop</td>\n",
       "      <td>You don't want to live this life\\nNo, this lif...</td>\n",
       "      <td>15161</td>\n",
       "      <td>[want, live, life, life, nice, want, live, lif...</td>\n",
       "    </tr>\n",
       "    <tr>\n",
       "      <td>100660</td>\n",
       "      <td>panda-charlie-heat-version</td>\n",
       "      <td>2016</td>\n",
       "      <td>desiigner</td>\n",
       "      <td>Hip-Hop</td>\n",
       "      <td>This what they all been waiting for\\nI guess s...</td>\n",
       "      <td>100660</td>\n",
       "      <td>[wait, guess, wait, shit, long, time, ima, giv...</td>\n",
       "    </tr>\n",
       "    <tr>\n",
       "      <td>56781</td>\n",
       "      <td>between-the-lines</td>\n",
       "      <td>2010</td>\n",
       "      <td>chris-brown</td>\n",
       "      <td>Hip-Hop</td>\n",
       "      <td>Was it something I said\\nWas it something I di...</td>\n",
       "      <td>56781</td>\n",
       "      <td>[someth, said, someth, look, answer, caus, kno...</td>\n",
       "    </tr>\n",
       "    <tr>\n",
       "      <td>167707</td>\n",
       "      <td>how-much-we-grew</td>\n",
       "      <td>2006</td>\n",
       "      <td>busta-rhymes</td>\n",
       "      <td>Hip-Hop</td>\n",
       "      <td>Yeah this next joint right here\\nIs dedicated ...</td>\n",
       "      <td>167707</td>\n",
       "      <td>[yeah, next, joint, right, dedic, nigga, love,...</td>\n",
       "    </tr>\n",
       "    <tr>\n",
       "      <td>58423</td>\n",
       "      <td>young-og</td>\n",
       "      <td>2013</td>\n",
       "      <td>fabolous</td>\n",
       "      <td>Hip-Hop</td>\n",
       "      <td>Troubled tears, they'll land you there\\nOpen y...</td>\n",
       "      <td>58423</td>\n",
       "      <td>[troubl, tear, land, open, eye, disguis, fear,...</td>\n",
       "    </tr>\n",
       "  </tbody>\n",
       "</table>\n",
       "</div>"
      ],
      "text/plain": [
       "                                            song  year                artist  \\\n",
       "grouped genre                                                                  \n",
       "Hip-Hop       15161                    this-life  2006  bone-thugs-n-harmony   \n",
       "              100660  panda-charlie-heat-version  2016             desiigner   \n",
       "              56781            between-the-lines  2010           chris-brown   \n",
       "              167707            how-much-we-grew  2006          busta-rhymes   \n",
       "              58423                     young-og  2013              fabolous   \n",
       "\n",
       "                        genre  \\\n",
       "grouped genre                   \n",
       "Hip-Hop       15161   Hip-Hop   \n",
       "              100660  Hip-Hop   \n",
       "              56781   Hip-Hop   \n",
       "              167707  Hip-Hop   \n",
       "              58423   Hip-Hop   \n",
       "\n",
       "                                                                 lyrics  \\\n",
       "grouped genre                                                             \n",
       "Hip-Hop       15161   You don't want to live this life\\nNo, this lif...   \n",
       "              100660  This what they all been waiting for\\nI guess s...   \n",
       "              56781   Was it something I said\\nWas it something I di...   \n",
       "              167707  Yeah this next joint right here\\nIs dedicated ...   \n",
       "              58423   Troubled tears, they'll land you there\\nOpen y...   \n",
       "\n",
       "                       index  \\\n",
       "grouped genre                  \n",
       "Hip-Hop       15161    15161   \n",
       "              100660  100660   \n",
       "              56781    56781   \n",
       "              167707  167707   \n",
       "              58423    58423   \n",
       "\n",
       "                                                       processed lyrics  \n",
       "grouped genre                                                            \n",
       "Hip-Hop       15161   [want, live, life, life, nice, want, live, lif...  \n",
       "              100660  [wait, guess, wait, shit, long, time, ima, giv...  \n",
       "              56781   [someth, said, someth, look, answer, caus, kno...  \n",
       "              167707  [yeah, next, joint, right, dedic, nigga, love,...  \n",
       "              58423   [troubl, tear, land, open, eye, disguis, fear,...  "
      ]
     },
     "execution_count": 273,
     "metadata": {},
     "output_type": "execute_result"
    }
   ],
   "source": [
    "data_undersampled.head()"
   ]
  },
  {
   "cell_type": "code",
   "execution_count": 274,
   "metadata": {},
   "outputs": [],
   "source": [
    "data_undersampled = data_undersampled.drop(columns=\"lyrics\")\n",
    "data_undersampled = data_undersampled.rename(columns={\"processed lyrics\": \"lyrics\"})"
   ]
  },
  {
   "cell_type": "code",
   "execution_count": 275,
   "metadata": {},
   "outputs": [
    {
     "data": {
      "text/html": [
       "<div>\n",
       "<style scoped>\n",
       "    .dataframe tbody tr th:only-of-type {\n",
       "        vertical-align: middle;\n",
       "    }\n",
       "\n",
       "    .dataframe tbody tr th {\n",
       "        vertical-align: top;\n",
       "    }\n",
       "\n",
       "    .dataframe thead th {\n",
       "        text-align: right;\n",
       "    }\n",
       "</style>\n",
       "<table border=\"1\" class=\"dataframe\">\n",
       "  <thead>\n",
       "    <tr style=\"text-align: right;\">\n",
       "      <th></th>\n",
       "      <th></th>\n",
       "      <th>song</th>\n",
       "      <th>year</th>\n",
       "      <th>artist</th>\n",
       "      <th>genre</th>\n",
       "      <th>index</th>\n",
       "      <th>lyrics</th>\n",
       "    </tr>\n",
       "    <tr>\n",
       "      <th>grouped genre</th>\n",
       "      <th></th>\n",
       "      <th></th>\n",
       "      <th></th>\n",
       "      <th></th>\n",
       "      <th></th>\n",
       "      <th></th>\n",
       "      <th></th>\n",
       "    </tr>\n",
       "  </thead>\n",
       "  <tbody>\n",
       "    <tr>\n",
       "      <td rowspan=\"5\" valign=\"top\">Hip-Hop</td>\n",
       "      <td>15161</td>\n",
       "      <td>this-life</td>\n",
       "      <td>2006</td>\n",
       "      <td>bone-thugs-n-harmony</td>\n",
       "      <td>Hip-Hop</td>\n",
       "      <td>15161</td>\n",
       "      <td>[want, live, life, life, nice, want, live, lif...</td>\n",
       "    </tr>\n",
       "    <tr>\n",
       "      <td>100660</td>\n",
       "      <td>panda-charlie-heat-version</td>\n",
       "      <td>2016</td>\n",
       "      <td>desiigner</td>\n",
       "      <td>Hip-Hop</td>\n",
       "      <td>100660</td>\n",
       "      <td>[wait, guess, wait, shit, long, time, ima, giv...</td>\n",
       "    </tr>\n",
       "    <tr>\n",
       "      <td>56781</td>\n",
       "      <td>between-the-lines</td>\n",
       "      <td>2010</td>\n",
       "      <td>chris-brown</td>\n",
       "      <td>Hip-Hop</td>\n",
       "      <td>56781</td>\n",
       "      <td>[someth, said, someth, look, answer, caus, kno...</td>\n",
       "    </tr>\n",
       "    <tr>\n",
       "      <td>167707</td>\n",
       "      <td>how-much-we-grew</td>\n",
       "      <td>2006</td>\n",
       "      <td>busta-rhymes</td>\n",
       "      <td>Hip-Hop</td>\n",
       "      <td>167707</td>\n",
       "      <td>[yeah, next, joint, right, dedic, nigga, love,...</td>\n",
       "    </tr>\n",
       "    <tr>\n",
       "      <td>58423</td>\n",
       "      <td>young-og</td>\n",
       "      <td>2013</td>\n",
       "      <td>fabolous</td>\n",
       "      <td>Hip-Hop</td>\n",
       "      <td>58423</td>\n",
       "      <td>[troubl, tear, land, open, eye, disguis, fear,...</td>\n",
       "    </tr>\n",
       "  </tbody>\n",
       "</table>\n",
       "</div>"
      ],
      "text/plain": [
       "                                            song  year                artist  \\\n",
       "grouped genre                                                                  \n",
       "Hip-Hop       15161                    this-life  2006  bone-thugs-n-harmony   \n",
       "              100660  panda-charlie-heat-version  2016             desiigner   \n",
       "              56781            between-the-lines  2010           chris-brown   \n",
       "              167707            how-much-we-grew  2006          busta-rhymes   \n",
       "              58423                     young-og  2013              fabolous   \n",
       "\n",
       "                        genre   index  \\\n",
       "grouped genre                           \n",
       "Hip-Hop       15161   Hip-Hop   15161   \n",
       "              100660  Hip-Hop  100660   \n",
       "              56781   Hip-Hop   56781   \n",
       "              167707  Hip-Hop  167707   \n",
       "              58423   Hip-Hop   58423   \n",
       "\n",
       "                                                                 lyrics  \n",
       "grouped genre                                                            \n",
       "Hip-Hop       15161   [want, live, life, life, nice, want, live, lif...  \n",
       "              100660  [wait, guess, wait, shit, long, time, ima, giv...  \n",
       "              56781   [someth, said, someth, look, answer, caus, kno...  \n",
       "              167707  [yeah, next, joint, right, dedic, nigga, love,...  \n",
       "              58423   [troubl, tear, land, open, eye, disguis, fear,...  "
      ]
     },
     "execution_count": 275,
     "metadata": {},
     "output_type": "execute_result"
    }
   ],
   "source": [
    "data_undersampled.head()"
   ]
  },
  {
   "cell_type": "code",
   "execution_count": 278,
   "metadata": {},
   "outputs": [],
   "source": [
    "# Create new csv file with cleaned dataset\n",
    "\n",
    "data_undersampled.to_pickle('data_undersampled_preprocessed_index_false.csv')\n"
   ]
  },
  {
   "cell_type": "code",
   "execution_count": 5,
   "metadata": {},
   "outputs": [],
   "source": [
    "# Read the new csv file with the cleaned data (only necessary if the code above hasn't been run)\n",
    "\n",
    "final_data = pd.read_pickle('data_undersampled_preprocessed_index_false.csv') #, usecols=['genre', 'song', 'year', 'artist', 'genre', 'lyrics'])\n"
   ]
  },
  {
   "cell_type": "code",
   "execution_count": 6,
   "metadata": {},
   "outputs": [
    {
     "data": {
      "text/html": [
       "<div>\n",
       "<style scoped>\n",
       "    .dataframe tbody tr th:only-of-type {\n",
       "        vertical-align: middle;\n",
       "    }\n",
       "\n",
       "    .dataframe tbody tr th {\n",
       "        vertical-align: top;\n",
       "    }\n",
       "\n",
       "    .dataframe thead th {\n",
       "        text-align: right;\n",
       "    }\n",
       "</style>\n",
       "<table border=\"1\" class=\"dataframe\">\n",
       "  <thead>\n",
       "    <tr style=\"text-align: right;\">\n",
       "      <th></th>\n",
       "      <th></th>\n",
       "      <th>song</th>\n",
       "      <th>year</th>\n",
       "      <th>artist</th>\n",
       "      <th>genre</th>\n",
       "      <th>index</th>\n",
       "      <th>lyrics</th>\n",
       "    </tr>\n",
       "    <tr>\n",
       "      <th>grouped genre</th>\n",
       "      <th></th>\n",
       "      <th></th>\n",
       "      <th></th>\n",
       "      <th></th>\n",
       "      <th></th>\n",
       "      <th></th>\n",
       "      <th></th>\n",
       "    </tr>\n",
       "  </thead>\n",
       "  <tbody>\n",
       "    <tr>\n",
       "      <td rowspan=\"5\" valign=\"top\">Hip-Hop</td>\n",
       "      <td>15161</td>\n",
       "      <td>this-life</td>\n",
       "      <td>2006</td>\n",
       "      <td>bone-thugs-n-harmony</td>\n",
       "      <td>Hip-Hop</td>\n",
       "      <td>15161</td>\n",
       "      <td>[want, live, life, life, nice, want, live, lif...</td>\n",
       "    </tr>\n",
       "    <tr>\n",
       "      <td>100660</td>\n",
       "      <td>panda-charlie-heat-version</td>\n",
       "      <td>2016</td>\n",
       "      <td>desiigner</td>\n",
       "      <td>Hip-Hop</td>\n",
       "      <td>100660</td>\n",
       "      <td>[wait, guess, wait, shit, long, time, ima, giv...</td>\n",
       "    </tr>\n",
       "    <tr>\n",
       "      <td>56781</td>\n",
       "      <td>between-the-lines</td>\n",
       "      <td>2010</td>\n",
       "      <td>chris-brown</td>\n",
       "      <td>Hip-Hop</td>\n",
       "      <td>56781</td>\n",
       "      <td>[someth, said, someth, look, answer, caus, kno...</td>\n",
       "    </tr>\n",
       "    <tr>\n",
       "      <td>167707</td>\n",
       "      <td>how-much-we-grew</td>\n",
       "      <td>2006</td>\n",
       "      <td>busta-rhymes</td>\n",
       "      <td>Hip-Hop</td>\n",
       "      <td>167707</td>\n",
       "      <td>[yeah, next, joint, right, dedic, nigga, love,...</td>\n",
       "    </tr>\n",
       "    <tr>\n",
       "      <td>58423</td>\n",
       "      <td>young-og</td>\n",
       "      <td>2013</td>\n",
       "      <td>fabolous</td>\n",
       "      <td>Hip-Hop</td>\n",
       "      <td>58423</td>\n",
       "      <td>[troubl, tear, land, open, eye, disguis, fear,...</td>\n",
       "    </tr>\n",
       "  </tbody>\n",
       "</table>\n",
       "</div>"
      ],
      "text/plain": [
       "                                            song  year                artist  \\\n",
       "grouped genre                                                                  \n",
       "Hip-Hop       15161                    this-life  2006  bone-thugs-n-harmony   \n",
       "              100660  panda-charlie-heat-version  2016             desiigner   \n",
       "              56781            between-the-lines  2010           chris-brown   \n",
       "              167707            how-much-we-grew  2006          busta-rhymes   \n",
       "              58423                     young-og  2013              fabolous   \n",
       "\n",
       "                        genre   index  \\\n",
       "grouped genre                           \n",
       "Hip-Hop       15161   Hip-Hop   15161   \n",
       "              100660  Hip-Hop  100660   \n",
       "              56781   Hip-Hop   56781   \n",
       "              167707  Hip-Hop  167707   \n",
       "              58423   Hip-Hop   58423   \n",
       "\n",
       "                                                                 lyrics  \n",
       "grouped genre                                                            \n",
       "Hip-Hop       15161   [want, live, life, life, nice, want, live, lif...  \n",
       "              100660  [wait, guess, wait, shit, long, time, ima, giv...  \n",
       "              56781   [someth, said, someth, look, answer, caus, kno...  \n",
       "              167707  [yeah, next, joint, right, dedic, nigga, love,...  \n",
       "              58423   [troubl, tear, land, open, eye, disguis, fear,...  "
      ]
     },
     "execution_count": 6,
     "metadata": {},
     "output_type": "execute_result"
    }
   ],
   "source": [
    "final_data.head()"
   ]
  },
  {
   "cell_type": "markdown",
   "metadata": {},
   "source": [
    "**Train and Test sets**  \n",
    "The dataset (or sample set) is split into a train and a test set.\n",
    "80% of the dataset is for training, 20% for testing."
   ]
  },
  {
   "cell_type": "code",
   "execution_count": 7,
   "metadata": {},
   "outputs": [],
   "source": [
    "#Split the dataset into a training and a testing set using an 80-20 split\n",
    "train, test = train_test_split(final_data, test_size=0.2)"
   ]
  },
  {
   "cell_type": "code",
   "execution_count": 8,
   "metadata": {},
   "outputs": [],
   "source": [
    "#Split the test set into a validation and a testing set using an 80-20 split\n",
    "validate, test = train_test_split(test, test_size=0.2)"
   ]
  },
  {
   "cell_type": "code",
   "execution_count": 9,
   "metadata": {},
   "outputs": [
    {
     "name": "stdout",
     "output_type": "stream",
     "text": [
      "<class 'pandas.core.frame.DataFrame'>\n",
      "(65888, 6)\n",
      "<class 'pandas.core.frame.DataFrame'>\n",
      "(13177, 6)\n",
      "<class 'pandas.core.frame.DataFrame'>\n",
      "(3295, 6)\n"
     ]
    }
   ],
   "source": [
    "print(type(train))\n",
    "print(train.shape)\n",
    "print(type(validate))\n",
    "print(validate.shape)\n",
    "print(type(test))\n",
    "print(test.shape)"
   ]
  },
  {
   "cell_type": "code",
   "execution_count": 10,
   "metadata": {},
   "outputs": [
    {
     "name": "stdout",
     "output_type": "stream",
     "text": [
      "grouped genre        \n",
      "Pop            40641     [decid, went, start, gone, think, mean, keep, ...\n",
      "Hip-Hop        138512    [lil, wayn, bow, wow, angel, straight, heaven,...\n",
      "Pop            57705     [matter, hard, tri, keep, push, break, talk, s...\n",
      "Hip-Hop        60494     [shit, tire, gettin, shot, tire, gettin, chase...\n",
      "Rock           61836     [drop, penni, said, feel, liber, take, love, r...\n",
      "Pop            128928    [everyon, tell, need, hide, friend, sad, true,...\n",
      "               6782      [music, key, fall, love, music, answer, world,...\n",
      "Metal          137209    [want, hear, tri, help, want, see, tri, save, ...\n",
      "Pop            48047     [gave, heart, ooh, ooh, gave, heart, ooh, ooh,...\n",
      "               107294    [afraid, say, love, anymor, word, wait, time, ...\n",
      "Name: lyrics, dtype: object\n",
      "<class 'pandas.core.series.Series'>\n"
     ]
    }
   ],
   "source": [
    "print(train['lyrics'][:10])\n",
    "print(type(train['lyrics']))\n",
    "#pro_lyrics = train['lyrics']\n",
    "#print(pro_lyrics[:10])"
   ]
  },
  {
   "cell_type": "code",
   "execution_count": 11,
   "metadata": {},
   "outputs": [
    {
     "data": {
      "text/html": [
       "<div>\n",
       "<style scoped>\n",
       "    .dataframe tbody tr th:only-of-type {\n",
       "        vertical-align: middle;\n",
       "    }\n",
       "\n",
       "    .dataframe tbody tr th {\n",
       "        vertical-align: top;\n",
       "    }\n",
       "\n",
       "    .dataframe thead th {\n",
       "        text-align: right;\n",
       "    }\n",
       "</style>\n",
       "<table border=\"1\" class=\"dataframe\">\n",
       "  <thead>\n",
       "    <tr style=\"text-align: right;\">\n",
       "      <th></th>\n",
       "      <th></th>\n",
       "      <th>song</th>\n",
       "      <th>year</th>\n",
       "      <th>artist</th>\n",
       "      <th>genre</th>\n",
       "      <th>index</th>\n",
       "      <th>lyrics</th>\n",
       "    </tr>\n",
       "    <tr>\n",
       "      <th>grouped genre</th>\n",
       "      <th></th>\n",
       "      <th></th>\n",
       "      <th></th>\n",
       "      <th></th>\n",
       "      <th></th>\n",
       "      <th></th>\n",
       "      <th></th>\n",
       "    </tr>\n",
       "  </thead>\n",
       "  <tbody>\n",
       "    <tr>\n",
       "      <td>Pop</td>\n",
       "      <td>40641</td>\n",
       "      <td>believe</td>\n",
       "      <td>2016</td>\n",
       "      <td>cant</td>\n",
       "      <td>Pop</td>\n",
       "      <td>40641</td>\n",
       "      <td>[decid, went, start, gone, think, mean, keep, ...</td>\n",
       "    </tr>\n",
       "    <tr>\n",
       "      <td>Hip-Hop</td>\n",
       "      <td>138512</td>\n",
       "      <td>can-i-be-your-man</td>\n",
       "      <td>2009</td>\n",
       "      <td>bow-wow</td>\n",
       "      <td>Hip-Hop</td>\n",
       "      <td>138512</td>\n",
       "      <td>[lil, wayn, bow, wow, angel, straight, heaven,...</td>\n",
       "    </tr>\n",
       "    <tr>\n",
       "      <td>Pop</td>\n",
       "      <td>57705</td>\n",
       "      <td>believe</td>\n",
       "      <td>2012</td>\n",
       "      <td>ella-henderson</td>\n",
       "      <td>Pop</td>\n",
       "      <td>57705</td>\n",
       "      <td>[matter, hard, tri, keep, push, break, talk, s...</td>\n",
       "    </tr>\n",
       "    <tr>\n",
       "      <td>Hip-Hop</td>\n",
       "      <td>60494</td>\n",
       "      <td>thugz-mansion</td>\n",
       "      <td>2006</td>\n",
       "      <td>2pac</td>\n",
       "      <td>Hip-Hop</td>\n",
       "      <td>60494</td>\n",
       "      <td>[shit, tire, gettin, shot, tire, gettin, chase...</td>\n",
       "    </tr>\n",
       "    <tr>\n",
       "      <td>Rock</td>\n",
       "      <td>61836</td>\n",
       "      <td>take-my-love-and-run</td>\n",
       "      <td>2014</td>\n",
       "      <td>bad-suns</td>\n",
       "      <td>Rock</td>\n",
       "      <td>61836</td>\n",
       "      <td>[drop, penni, said, feel, liber, take, love, r...</td>\n",
       "    </tr>\n",
       "  </tbody>\n",
       "</table>\n",
       "</div>"
      ],
      "text/plain": [
       "                                      song  year          artist    genre  \\\n",
       "grouped genre                                                               \n",
       "Pop           40641                believe  2016            cant      Pop   \n",
       "Hip-Hop       138512     can-i-be-your-man  2009         bow-wow  Hip-Hop   \n",
       "Pop           57705                believe  2012  ella-henderson      Pop   \n",
       "Hip-Hop       60494          thugz-mansion  2006            2pac  Hip-Hop   \n",
       "Rock          61836   take-my-love-and-run  2014        bad-suns     Rock   \n",
       "\n",
       "                       index  \\\n",
       "grouped genre                  \n",
       "Pop           40641    40641   \n",
       "Hip-Hop       138512  138512   \n",
       "Pop           57705    57705   \n",
       "Hip-Hop       60494    60494   \n",
       "Rock          61836    61836   \n",
       "\n",
       "                                                                 lyrics  \n",
       "grouped genre                                                            \n",
       "Pop           40641   [decid, went, start, gone, think, mean, keep, ...  \n",
       "Hip-Hop       138512  [lil, wayn, bow, wow, angel, straight, heaven,...  \n",
       "Pop           57705   [matter, hard, tri, keep, push, break, talk, s...  \n",
       "Hip-Hop       60494   [shit, tire, gettin, shot, tire, gettin, chase...  \n",
       "Rock          61836   [drop, penni, said, feel, liber, take, love, r...  "
      ]
     },
     "execution_count": 11,
     "metadata": {},
     "output_type": "execute_result"
    }
   ],
   "source": [
    "train.head()"
   ]
  },
  {
   "cell_type": "code",
   "execution_count": 12,
   "metadata": {},
   "outputs": [
    {
     "data": {
      "text/html": [
       "<div>\n",
       "<style scoped>\n",
       "    .dataframe tbody tr th:only-of-type {\n",
       "        vertical-align: middle;\n",
       "    }\n",
       "\n",
       "    .dataframe tbody tr th {\n",
       "        vertical-align: top;\n",
       "    }\n",
       "\n",
       "    .dataframe thead th {\n",
       "        text-align: right;\n",
       "    }\n",
       "</style>\n",
       "<table border=\"1\" class=\"dataframe\">\n",
       "  <thead>\n",
       "    <tr style=\"text-align: right;\">\n",
       "      <th></th>\n",
       "      <th></th>\n",
       "      <th>song</th>\n",
       "      <th>year</th>\n",
       "      <th>artist</th>\n",
       "      <th>genre</th>\n",
       "      <th>index</th>\n",
       "      <th>lyrics</th>\n",
       "    </tr>\n",
       "    <tr>\n",
       "      <th>grouped genre</th>\n",
       "      <th></th>\n",
       "      <th></th>\n",
       "      <th></th>\n",
       "      <th></th>\n",
       "      <th></th>\n",
       "      <th></th>\n",
       "      <th></th>\n",
       "    </tr>\n",
       "  </thead>\n",
       "  <tbody>\n",
       "    <tr>\n",
       "      <td rowspan=\"2\" valign=\"top\">Rock</td>\n",
       "      <td>175088</td>\n",
       "      <td>naked-in-my-bed</td>\n",
       "      <td>2004</td>\n",
       "      <td>frickin-a</td>\n",
       "      <td>Rock</td>\n",
       "      <td>175088</td>\n",
       "      <td>[met, pool, yeah, smokin, hot, told, get, ask,...</td>\n",
       "    </tr>\n",
       "    <tr>\n",
       "      <td>74437</td>\n",
       "      <td>eh-hee</td>\n",
       "      <td>2010</td>\n",
       "      <td>dave-matthews-tim-reynolds</td>\n",
       "      <td>Rock</td>\n",
       "      <td>74437</td>\n",
       "      <td>[chant, prais, god, mani, name, devil, mani, l...</td>\n",
       "    </tr>\n",
       "    <tr>\n",
       "      <td>Hip-Hop</td>\n",
       "      <td>97466</td>\n",
       "      <td>outshine-me</td>\n",
       "      <td>2014</td>\n",
       "      <td>colt-ford</td>\n",
       "      <td>Hip-Hop</td>\n",
       "      <td>97466</td>\n",
       "      <td>[got, copper, hand, built, hill, fill, corn, m...</td>\n",
       "    </tr>\n",
       "    <tr>\n",
       "      <td>Rock</td>\n",
       "      <td>141048</td>\n",
       "      <td>morningleaver</td>\n",
       "      <td>2007</td>\n",
       "      <td>as-friends-rust</td>\n",
       "      <td>Rock</td>\n",
       "      <td>141048</td>\n",
       "      <td>[morningleav, start, day, morningleav, got, wa...</td>\n",
       "    </tr>\n",
       "    <tr>\n",
       "      <td>Pop</td>\n",
       "      <td>147766</td>\n",
       "      <td>falling-down</td>\n",
       "      <td>2009</td>\n",
       "      <td>american-idol</td>\n",
       "      <td>Pop</td>\n",
       "      <td>147766</td>\n",
       "      <td>[uhoh, walk, talk, new, sensat, move, circl, n...</td>\n",
       "    </tr>\n",
       "  </tbody>\n",
       "</table>\n",
       "</div>"
      ],
      "text/plain": [
       "                                 song  year                      artist  \\\n",
       "grouped genre                                                             \n",
       "Rock          175088  naked-in-my-bed  2004                   frickin-a   \n",
       "              74437            eh-hee  2010  dave-matthews-tim-reynolds   \n",
       "Hip-Hop       97466       outshine-me  2014                   colt-ford   \n",
       "Rock          141048    morningleaver  2007             as-friends-rust   \n",
       "Pop           147766     falling-down  2009               american-idol   \n",
       "\n",
       "                        genre   index  \\\n",
       "grouped genre                           \n",
       "Rock          175088     Rock  175088   \n",
       "              74437      Rock   74437   \n",
       "Hip-Hop       97466   Hip-Hop   97466   \n",
       "Rock          141048     Rock  141048   \n",
       "Pop           147766      Pop  147766   \n",
       "\n",
       "                                                                 lyrics  \n",
       "grouped genre                                                            \n",
       "Rock          175088  [met, pool, yeah, smokin, hot, told, get, ask,...  \n",
       "              74437   [chant, prais, god, mani, name, devil, mani, l...  \n",
       "Hip-Hop       97466   [got, copper, hand, built, hill, fill, corn, m...  \n",
       "Rock          141048  [morningleav, start, day, morningleav, got, wa...  \n",
       "Pop           147766  [uhoh, walk, talk, new, sensat, move, circl, n...  "
      ]
     },
     "execution_count": 12,
     "metadata": {},
     "output_type": "execute_result"
    }
   ],
   "source": [
    "validate.head()"
   ]
  },
  {
   "cell_type": "code",
   "execution_count": 13,
   "metadata": {},
   "outputs": [
    {
     "data": {
      "text/html": [
       "<div>\n",
       "<style scoped>\n",
       "    .dataframe tbody tr th:only-of-type {\n",
       "        vertical-align: middle;\n",
       "    }\n",
       "\n",
       "    .dataframe tbody tr th {\n",
       "        vertical-align: top;\n",
       "    }\n",
       "\n",
       "    .dataframe thead th {\n",
       "        text-align: right;\n",
       "    }\n",
       "</style>\n",
       "<table border=\"1\" class=\"dataframe\">\n",
       "  <thead>\n",
       "    <tr style=\"text-align: right;\">\n",
       "      <th></th>\n",
       "      <th></th>\n",
       "      <th>song</th>\n",
       "      <th>year</th>\n",
       "      <th>artist</th>\n",
       "      <th>genre</th>\n",
       "      <th>index</th>\n",
       "      <th>lyrics</th>\n",
       "    </tr>\n",
       "    <tr>\n",
       "      <th>grouped genre</th>\n",
       "      <th></th>\n",
       "      <th></th>\n",
       "      <th></th>\n",
       "      <th></th>\n",
       "      <th></th>\n",
       "      <th></th>\n",
       "      <th></th>\n",
       "    </tr>\n",
       "  </thead>\n",
       "  <tbody>\n",
       "    <tr>\n",
       "      <td>Pop</td>\n",
       "      <td>81265</td>\n",
       "      <td>you-ll-never-know</td>\n",
       "      <td>2013</td>\n",
       "      <td>ariana-grande</td>\n",
       "      <td>Pop</td>\n",
       "      <td>81265</td>\n",
       "      <td>[tell, feel, word, came, littl, drama, boy, ov...</td>\n",
       "    </tr>\n",
       "    <tr>\n",
       "      <td rowspan=\"2\" valign=\"top\">Metal</td>\n",
       "      <td>140965</td>\n",
       "      <td>nothing-left-to-pray-for</td>\n",
       "      <td>2007</td>\n",
       "      <td>dying-fetus</td>\n",
       "      <td>Metal</td>\n",
       "      <td>140965</td>\n",
       "      <td>[windswept, wasteland, balkan, sky, peac, plan...</td>\n",
       "    </tr>\n",
       "    <tr>\n",
       "      <td>69620</td>\n",
       "      <td>white-leaf</td>\n",
       "      <td>2015</td>\n",
       "      <td>arno-rush</td>\n",
       "      <td>Metal</td>\n",
       "      <td>69620</td>\n",
       "      <td>[prefer, line, rock, needl, way, time, elev, l...</td>\n",
       "    </tr>\n",
       "    <tr>\n",
       "      <td>Rock</td>\n",
       "      <td>150954</td>\n",
       "      <td>that-s-how-much-i-need-your-love</td>\n",
       "      <td>2009</td>\n",
       "      <td>chuck-prophet</td>\n",
       "      <td>Rock</td>\n",
       "      <td>150954</td>\n",
       "      <td>[cadillac, drivin, wheel, carv, name, hood, se...</td>\n",
       "    </tr>\n",
       "    <tr>\n",
       "      <td>Metal</td>\n",
       "      <td>41632</td>\n",
       "      <td>grimstone</td>\n",
       "      <td>2007</td>\n",
       "      <td>as-divine-grace</td>\n",
       "      <td>Metal</td>\n",
       "      <td>41632</td>\n",
       "      <td>[light, gather, right, owl, close, gleam, eye,...</td>\n",
       "    </tr>\n",
       "  </tbody>\n",
       "</table>\n",
       "</div>"
      ],
      "text/plain": [
       "                                                  song  year           artist  \\\n",
       "grouped genre                                                                   \n",
       "Pop           81265                  you-ll-never-know  2013    ariana-grande   \n",
       "Metal         140965          nothing-left-to-pray-for  2007      dying-fetus   \n",
       "              69620                         white-leaf  2015        arno-rush   \n",
       "Rock          150954  that-s-how-much-i-need-your-love  2009    chuck-prophet   \n",
       "Metal         41632                          grimstone  2007  as-divine-grace   \n",
       "\n",
       "                      genre   index  \\\n",
       "grouped genre                         \n",
       "Pop           81265     Pop   81265   \n",
       "Metal         140965  Metal  140965   \n",
       "              69620   Metal   69620   \n",
       "Rock          150954   Rock  150954   \n",
       "Metal         41632   Metal   41632   \n",
       "\n",
       "                                                                 lyrics  \n",
       "grouped genre                                                            \n",
       "Pop           81265   [tell, feel, word, came, littl, drama, boy, ov...  \n",
       "Metal         140965  [windswept, wasteland, balkan, sky, peac, plan...  \n",
       "              69620   [prefer, line, rock, needl, way, time, elev, l...  \n",
       "Rock          150954  [cadillac, drivin, wheel, carv, name, hood, se...  \n",
       "Metal         41632   [light, gather, right, owl, close, gleam, eye,...  "
      ]
     },
     "execution_count": 13,
     "metadata": {},
     "output_type": "execute_result"
    }
   ],
   "source": [
    "test.head()"
   ]
  },
  {
   "cell_type": "code",
   "execution_count": null,
   "metadata": {},
   "outputs": [],
   "source": []
  },
  {
   "cell_type": "markdown",
   "metadata": {},
   "source": [
    "**Create a dictionary for the preprocessed lyrics**  \n",
    "This dictionary contains all words from the training set.\n",
    "This process takes less than a minute."
   ]
  },
  {
   "cell_type": "code",
   "execution_count": 14,
   "metadata": {},
   "outputs": [
    {
     "name": "stdout",
     "output_type": "stream",
     "text": [
      "The execution of the dictionary took: 0.16 minutes\n"
     ]
    }
   ],
   "source": [
    "#Create a dictionary\n",
    "start = time.time()\n",
    "\n",
    "train_lyrics_dictionary = gensim.corpora.Dictionary(train['lyrics'])\n",
    "\n",
    "end = time.time()\n",
    "time_lapsed_s = end - start\n",
    "time_lapsed = time_lapsed_s / 60.0\n",
    "print(\"The execution of the dictionary took: %1.2f minutes\" %(time_lapsed))"
   ]
  },
  {
   "cell_type": "code",
   "execution_count": 15,
   "metadata": {},
   "outputs": [
    {
     "name": "stdout",
     "output_type": "stream",
     "text": [
      "0 believ\n",
      "1 come\n",
      "2 decid\n",
      "3 die\n",
      "4 eras\n",
      "5 give\n",
      "6 gone\n",
      "7 good\n",
      "8 keep\n",
      "9 know\n",
      "10 make\n"
     ]
    }
   ],
   "source": [
    "# Example\n",
    "count = 0\n",
    "for key, value in train_lyrics_dictionary.iteritems():\n",
    "    print(key, value)\n",
    "    count += 1\n",
    "    if count > 10:\n",
    "        break"
   ]
  },
  {
   "cell_type": "markdown",
   "metadata": {},
   "source": [
    "**Remove all words from the dictionary using the following conditions:**  \n",
    "+ Filter out tokens that appear in less than 5(?) lyrics (absolute number) or\n",
    "+ more than 0.2(?) lyrics (fraction of total corpus size, not absolute number).\n",
    "+ (After the above two steps, keep only the first 100000 most frequent tokens.)"
   ]
  },
  {
   "cell_type": "code",
   "execution_count": 16,
   "metadata": {},
   "outputs": [],
   "source": [
    "train_lyrics_dictionary.filter_extremes(no_below=5, no_above=0.2)"
   ]
  },
  {
   "cell_type": "markdown",
   "metadata": {},
   "source": [
    "**Bag of words**  \n",
    "Create a bag of words dictionary (called bow_corpus) for each lyric from the training dataset containing its words and their frequencies."
   ]
  },
  {
   "cell_type": "code",
   "execution_count": 17,
   "metadata": {},
   "outputs": [],
   "source": [
    "bow_corpus = []\n",
    "for lyric in train['lyrics']:\n",
    "    bow_corpus.append(train_lyrics_dictionary.doc2bow(lyric))"
   ]
  },
  {
   "cell_type": "code",
   "execution_count": 18,
   "metadata": {},
   "outputs": [
    {
     "name": "stdout",
     "output_type": "stream",
     "text": [
      "[(0, 9), (1, 1), (2, 1), (3, 1), (4, 1), (5, 1), (6, 1), (7, 1), (8, 1), (9, 1), (10, 2), (11, 1), (12, 1), (13, 2), (14, 1), (15, 1)]\n",
      "Number 2 translates to the word: die\n",
      "In this lyric this word has a frequency of: 1\n"
     ]
    }
   ],
   "source": [
    "# Print the bag of words corpus dictionary of the first lyric in the set.\n",
    "print(bow_corpus[0])\n",
    "print(\"Number 2 translates to the word:\", train_lyrics_dictionary[2])\n",
    "print(\"In this lyric this word has a frequency of:\", bow_corpus[0][2][1])"
   ]
  },
  {
   "cell_type": "code",
   "execution_count": 19,
   "metadata": {},
   "outputs": [
    {
     "name": "stdout",
     "output_type": "stream",
     "text": [
      "Word 8 (\"pain\") appears 2 time.\n"
     ]
    }
   ],
   "source": [
    "#Example\n",
    "bow_doc_43 = bow_corpus[43]\n",
    "for i in range(len(bow_doc_43)):\n",
    "    print(\"Word {} (\\\"{}\\\") appears {} time.\".format(bow_doc_43[i][0], train_lyrics_dictionary[bow_doc_43[i][0]], bow_doc_43[i][1]))\n",
    "    break #remove this to see all frequencies of this lyric"
   ]
  },
  {
   "cell_type": "markdown",
   "metadata": {},
   "source": [
    "**LDA model**   \n",
    "Create the LDA model with 4 topics for the 4 genres. The topics are printed with the words and their weights."
   ]
  },
  {
   "cell_type": "code",
   "execution_count": 404,
   "metadata": {},
   "outputs": [],
   "source": [
    "#Create the LDA model (Not necessary when a model has already been created. That can be loaded in the line below.)\n",
    "lda_model = gensim.models.LdaMulticore(bow_corpus, num_topics=4, id2word=train_lyrics_dictionary, passes=2, workers=2)"
   ]
  },
  {
   "cell_type": "code",
   "execution_count": 20,
   "metadata": {},
   "outputs": [],
   "source": [
    "lda_model = LdaModel.load(\"LDA_model\")"
   ]
  },
  {
   "cell_type": "code",
   "execution_count": 405,
   "metadata": {},
   "outputs": [
    {
     "name": "stdout",
     "output_type": "stream",
     "text": [
      "Topic: 0 \n",
      "Words: 0.022*\"babi\" + 0.018*\"girl\" + 0.013*\"gon\" + 0.010*\"wan\" + 0.009*\"good\" + 0.008*\"littl\" + 0.007*\"yeah\" + 0.007*\"hey\" + 0.007*\"said\" + 0.007*\"wait\"\n",
      "Topic: 1 \n",
      "Words: 0.017*\"nigga\" + 0.012*\"fuck\" + 0.011*\"shit\" + 0.010*\"bitch\" + 0.007*\"money\" + 0.006*\"caus\" + 0.005*\"gon\" + 0.005*\"put\" + 0.005*\"hit\" + 0.005*\"ass\"\n",
      "Topic: 2 \n",
      "Words: 0.007*\"god\" + 0.007*\"blood\" + 0.006*\"soul\" + 0.006*\"die\" + 0.006*\"burn\" + 0.006*\"dark\" + 0.005*\"death\" + 0.005*\"light\" + 0.005*\"fire\" + 0.005*\"black\"\n",
      "Topic: 3 \n",
      "Words: 0.010*\"fall\" + 0.008*\"mind\" + 0.008*\"believ\" + 0.007*\"dream\" + 0.007*\"lie\" + 0.007*\"leav\" + 0.007*\"noth\" + 0.007*\"gone\" + 0.007*\"turn\" + 0.006*\"end\"\n"
     ]
    }
   ],
   "source": [
    "for idx, topic in lda_model.print_topics(-1):\n",
    "    print('Topic: {} \\nWords: {}'.format(idx, topic))"
   ]
  },
  {
   "cell_type": "code",
   "execution_count": 408,
   "metadata": {},
   "outputs": [],
   "source": [
    "# Save this LDA model\n",
    "#from gensim.test.utils import datapath\n",
    "#temp_file = datapath(\"LDA_model\")\n",
    "lda_model.save(\"LDA_model\")\n",
    "\n",
    "# Load the model later\n",
    "#lda_model.LdaModel.load()"
   ]
  },
  {
   "cell_type": "markdown",
   "metadata": {},
   "source": [
    "**The following function prints the coherence score of the topic that the lyric is most coherent to**   \n",
    "The topics from the lda model predict if a lyric has topic 0, 1, 2 or 3. These topics need to be translated to the genres.\n",
    "The following code prints each genre and the amount of times this genre was predicted as each of the topics.\n",
    "The genre is linked to the topic that it was predicted to be the most amount of times."
   ]
  },
  {
   "cell_type": "code",
   "execution_count": 22,
   "metadata": {},
   "outputs": [],
   "source": [
    "#From the topics that are predicted for a song, find the highest scoring topic as it is most likely to be this topic.\n",
    "\n",
    "def highest_scoring_topic_linking(indexas):\n",
    "    \n",
    "    bow_vector = train_lyrics_dictionary.doc2bow(train['lyrics'].iloc[indexas])\n",
    "    \n",
    "    highest_score = 0\n",
    "    next_score = 0\n",
    "    highest_score_topic = 0\n",
    "    \n",
    "    for index, score in sorted(lda_model[bow_vector], key=lambda tup: -1*tup[1]):\n",
    "        #print(\"Score: {}\\nTopic: {} \\nWords: {}\".format(score, index, lda_model.print_topic(index, 12)))\n",
    "        #print(test_lyrics['genre'].iloc[ix])\n",
    "        #print()\n",
    "        next_score = score\n",
    "        if next_score > highest_score:\n",
    "            highest_score = next_score\n",
    "            highest_score_topic = index\n",
    "\n",
    "    return highest_score_topic"
   ]
  },
  {
   "cell_type": "code",
   "execution_count": 407,
   "metadata": {},
   "outputs": [
    {
     "name": "stdout",
     "output_type": "stream",
     "text": [
      "Gold: Pop     -> Predicted as Topic 0:    8539 times\n",
      "Gold: Pop     -> Predicted as Topic 3:    5464 times\n",
      "Gold: Pop     -> Predicted as Topic 2:    1390 times\n",
      "Gold: Pop     -> Predicted as Topic 1:    1053 times\n",
      "\n",
      "Gold: Metal   -> Predicted as Topic 2:    9761 times\n",
      "Gold: Metal   -> Predicted as Topic 3:    5267 times\n",
      "Gold: Metal   -> Predicted as Topic 0:     776 times\n",
      "Gold: Metal   -> Predicted as Topic 1:     672 times\n",
      "\n",
      "Gold: Rock    -> Predicted as Topic 3:    6449 times\n",
      "Gold: Rock    -> Predicted as Topic 0:    6324 times\n",
      "Gold: Rock    -> Predicted as Topic 2:    2484 times\n",
      "Gold: Rock    -> Predicted as Topic 1:    1267 times\n",
      "\n",
      "Gold: Hip-Hop -> Predicted as Topic 1:   12018 times\n",
      "Gold: Hip-Hop -> Predicted as Topic 0:    2444 times\n",
      "Gold: Hip-Hop -> Predicted as Topic 3:    1182 times\n",
      "Gold: Hip-Hop -> Predicted as Topic 2:     798 times\n",
      "\n"
     ]
    }
   ],
   "source": [
    "# Find out what topic links to which genre\n",
    "#Topic 0 -> Pop\n",
    "#Topic 1 -> Hip-Hop\n",
    "#Topic 2 -> Metal\n",
    "#Topic 3 -> Rock\n",
    "\n",
    "rock_topics = []\n",
    "pop_topics = []\n",
    "metal_topics = []\n",
    "hiphop_topics = []\n",
    "\n",
    "for i in range(len(train['lyrics'])):\n",
    "    \n",
    "    #print(test_lyrics['genre'].iloc[i])\n",
    "    #print(link_topics_genres(i))\n",
    "    if train['genre'].iloc[i] == 'Rock':\n",
    "        rock_topics.append(highest_scoring_topic_linking(i))\n",
    "    elif train['genre'].iloc[i] == 'Pop':\n",
    "        pop_topics.append(highest_scoring_topic_linking(i))\n",
    "    elif train['genre'].iloc[i] == 'Hip-Hop':\n",
    "        hiphop_topics.append(highest_scoring_topic_linking(i))\n",
    "    elif train['genre'].iloc[i] == 'Metal':\n",
    "        metal_topics.append(highest_scoring_topic_linking(i))\n",
    "\n",
    "for topic, count in c.Counter(pop_topics).most_common():\n",
    "    print('Gold: Pop     -> Predicted as Topic %s: %7d times' % (topic, count))\n",
    "print()\n",
    "for topic, count in c.Counter(metal_topics).most_common():\n",
    "    print('Gold: Metal   -> Predicted as Topic %s: %7d times' % (topic, count))\n",
    "print()\n",
    "for topic, count in c.Counter(rock_topics).most_common():\n",
    "    print('Gold: Rock    -> Predicted as Topic %s: %7d times' % (topic, count))\n",
    "print()\n",
    "for topic, count in c.Counter(hiphop_topics).most_common():\n",
    "    print('Gold: Hip-Hop -> Predicted as Topic %s: %7d times' % (topic, count))\n",
    "print()\n"
   ]
  },
  {
   "cell_type": "code",
   "execution_count": 23,
   "metadata": {},
   "outputs": [],
   "source": [
    "def topic_to_genre(topic):\n",
    "    #Topic 0 -> Pop\n",
    "    #Topic 1 -> Hip-Hop\n",
    "    #Topic 2 -> Metal\n",
    "    #Topic 3 -> Rock\n",
    "    \n",
    "    if topic == 0:\n",
    "        genre = 'Pop'\n",
    "    elif topic == 1:\n",
    "        genre = 'Hip-Hop'\n",
    "    elif topic == 2:\n",
    "        genre = 'Metal'\n",
    "    elif topic == 3:\n",
    "        genre = 'Rock'\n",
    "\n",
    "    return genre"
   ]
  },
  {
   "cell_type": "markdown",
   "metadata": {},
   "source": [
    "# **Evaluation of the gold and predicted genres**"
   ]
  },
  {
   "cell_type": "code",
   "execution_count": 37,
   "metadata": {},
   "outputs": [
    {
     "name": "stdout",
     "output_type": "stream",
     "text": [
      "13177\n"
     ]
    }
   ],
   "source": [
    "validation_bow_corpus = []\n",
    "for lyric in validate['lyrics']:\n",
    "    validation_bow_corpus.append(train_lyrics_dictionary.doc2bow(lyric))  \n",
    "print(len(validation_bow_corpus))"
   ]
  },
  {
   "cell_type": "code",
   "execution_count": 92,
   "metadata": {},
   "outputs": [],
   "source": [
    "#From the topics that are predicted for a song, find the highest scoring topic as it is most likely to be this topic.\n",
    "\n",
    "def highest_scoring_topic(bow_vector):\n",
    "        \n",
    "    highest_score = 0\n",
    "    next_score = 0\n",
    "    highest_score_topic = 0\n",
    "    \n",
    "    for index, score in sorted(lda_model[bow_vector], key=lambda tup: -1*tup[1]):\n",
    "    \n",
    "        next_score = score\n",
    "        if next_score > highest_score:\n",
    "            highest_score = next_score\n",
    "            highest_score_topic = index\n",
    "\n",
    "    return highest_score_topic"
   ]
  },
  {
   "cell_type": "code",
   "execution_count": 93,
   "metadata": {},
   "outputs": [
    {
     "name": "stdout",
     "output_type": "stream",
     "text": [
      "\n",
      "['met', 'pool', 'yeah', 'smokin', 'hot', 'told', 'get', 'ask', 'rub', 'oil', 'back', 'fine', 'crazi', 'fantasi', 'nake', 'bed', 'fling', 'string', 'movin', 'room', 'chicka', 'chicka', 'boom', 'boom', 'floor', 'door', 'sink', 'sun', 'hot', 'burn', 'red', 'nake', 'bed', 'read', 'magazin', 'right', 'front', 'latest', 'issu', 'cosmo', 'said', 'check', 'posit', 'page', 'point', 'said', 'look', 'lot', 'fun', 'nake', 'bed', 'fling', 'string', 'movin', 'room', 'chicka', 'chicka', 'boom', 'boom', 'floor', 'door', 'sink', 'sun', 'hot', 'burn', 'red', 'nake', 'bed', 'everyon', 'wonder', 'make', 'someth', 'see', 'sun', 'nake', 'bed', 'top', 'stop']\n",
      "['believ', 'decid', 'die', 'eras', 'gone', 'good', 'mean', 'mess', 'pain', 'screw', 'shown', 'start', 'suppos', 'told', 'went', 'wish', 'act', 'addict', 'aint', 'angel', 'arm', 'atla', 'babi', 'backseat', 'bad', 'begin', 'bow', 'broad', 'bug', 'butterfli', 'buy', 'call', 'cant', 'charm', 'choru', 'close', 'cop', 'cuf', 'curtain', 'damn', 'drug', 'ear', 'eat', 'end', 'episod', 'fake']\n",
      "Rock\n",
      "Hip-Hop\n",
      "\n",
      "['chant', 'prais', 'god', 'mani', 'name', 'devil', 'mani', 'love', 'mother', 'gave', 'gon', 'drop', 'devil', 'floor', 'gon', 'drop', 'devil', 'knee', 'gon', 'drop', 'devil', 'knee', 'someon', 'tri', 'convinc', 'know', 'answer', 'matter', 'question', 'wari', 'believ', 'neat', 'littl', 'world', 'fuck', 'crazi', 'know', 'chant', 'walk', 'haze', 'confus', 'laugh', 'time', 'take', 'strength', 'find', 'enough', 'reason', 'take', 'next', 'step', 'step', 'til', 'chant', 'brother', 'sister', 'brother', 'sister', 'brother', 'sister', 'brother', 'sister', 'prais', 'god', 'mani', 'name', 'devil', 'mani', 'love', 'mother', 'gave', 'gon', 'drop', 'devil', 'floor', 'gon', 'drop', 'devil', 'knee', 'gon', 'drop', 'devil', 'knee', 'strang', 'evolut', 'peopl', 'come', 'believ', 'greatest', 'achiev', 'collect', 'cell', 'overr', 'hello', 'god', 'avoid', 'truth', 'chant', 'gon', 'drop', 'devil', 'knee', 'gon', 'drop', 'devil', 'knee', 'chant']\n",
      "['believ', 'decid', 'die', 'eras', 'gone', 'good', 'mean', 'mess', 'pain', 'screw', 'shown', 'start', 'suppos', 'told', 'went', 'wish', 'act', 'addict', 'aint', 'angel', 'arm', 'atla', 'babi', 'backseat', 'bad', 'begin', 'bow', 'broad', 'bug', 'butterfli', 'buy', 'call', 'cant', 'charm', 'choru', 'close', 'cop', 'cuf', 'curtain', 'damn', 'drug', 'ear', 'eat', 'end', 'episod', 'fake', 'fck']\n",
      "Rock\n",
      "Hip-Hop\n",
      "\n",
      "['got', 'copper', 'hand', 'built', 'hill', 'fill', 'corn', 'mash', 'heat', 'chill', 'white', 'liquor', 'hit', 'quicker', 'knock', 'feet', 'lay', 'mason', 'jar', 'outshin', 'imma', 'put', 'let', 'tell', 'someth', 'yall', 'think', 'pumpin', 'proof', 'spit', 'truth', 'stop', 'tell', 'everybodi', 'better', 'get', 'sit', 'write', 'hit', 'stand', 'shoot', 'got', 'sell', 'mill', 'outta', 'sugar', 'coat', 'burn', 'throat', 'kid', 'aint', 'scare', 'lock', 'load', 'real', 'feel', 'dirt', 'road', 'discipl', 'dasteepl', 'man', 'peopl', 'mix', 'churn', 'light', 'burn', 'daylight', 'dark', 'folk', 'earn', 'haul', 'hunt', 'shoot', 'skin', 'fri', 'sip', 'chug', 'jar', 'jug', 'littl', 'better', 'anyon', 'chasin', 'thoroughbr', 'yall', 'done', 'got', 'lap', 'mile', 'late', 'slow', 'runaway', 'train', 'colt', 'ford', 'rememb', 'name', 'hater', 'tweeter', 'blogger', 'basher', 'watch', 'mouth', 'caus', 'run', 'pastur', 'got', 'copper', 'hand', 'built', 'hill', 'fill', 'corn', 'mash', 'heat', 'chill', 'white', 'liquor', 'hit', 'quicker', 'knock', 'feet', 'lay', 'mason', 'jar', 'outshin', 'got', 'copper', 'hand', 'built', 'hill', 'fill', 'corn', 'mash', 'heat', 'chill', 'white', 'liquor', 'hit', 'quicker', 'knock', 'feet', 'lay', 'mason', 'jar', 'outshin', 'take', 'wan', 'make', 'real', 'clear', 'dya', 'think', 'doin', 'switchin', 'gear', 'chang', 'lane', 'jackin', 'truck', 'run', 'lame', 'light', 'flame', 'america', 'cross', 'line', 'buri', 'got', 'shotgun', 'take', 'care', 'mudhol', 'buri', 'got', 'bunch', 'counti', 'folk', 'ride', 'bunch', 'redneck', 'aint', 'scare', 'fight', 'imma', 'give', 'way', 'dirt', 'road', 'hiway', 'wheel', 'jack', 'uptalk', 'sht', 'yall', 'trip', 'leagu', 'sippin', 'shine', 'hard', 'see', 'someth', 'pipe', 'dream', 'outshin', 'duraco', 'turbo', 'charg', 'everyth', 'larg', 'yall', 'chasin', 'throuroughbr', 'done', 'got', 'lap', 'mile', 'late', 'slow', 'runaway', 'train', 'colt', 'ford', 'rememb', 'name', 'hater', 'tweeter', 'blogger', 'basher', 'watch', 'mouth', 'caus', 'run', 'pastur', 'got', 'copper', 'hand', 'built', 'hill', 'fill', 'corn', 'mash', 'heat', 'chill', 'white', 'liquor', 'hit', 'quicker', 'knock', 'feet', 'lay', 'mason', 'jar', 'outshin', 'got', 'copper', 'hand', 'built', 'hill', 'fill', 'corn', 'mash', 'heat', 'chill', 'white', 'liquor', 'hit', 'quicker', 'knock', 'feet', 'lay', 'mason', 'jar', 'outshin', 'got', 'copper', 'hand', 'built', 'hill', 'fill', 'corn', 'mash', 'heat', 'chill', 'white', 'liquor', 'hit', 'quicker', 'knock', 'feet', 'lay', 'mason', 'jar', 'outshin', 'got', 'copper', 'hand', 'built', 'hill', 'fill', 'corn', 'mash', 'heat', 'chill', 'white', 'liquor', 'hit', 'quicker', 'knock', 'feet', 'lay', 'mason', 'jar', 'outshin']\n",
      "['believ', 'decid', 'die', 'eras', 'gone', 'good', 'mean', 'mess', 'pain', 'screw', 'shown', 'start', 'suppos', 'told', 'went', 'wish', 'act', 'addict', 'aint', 'angel', 'arm', 'atla', 'babi', 'backseat', 'bad', 'begin', 'bow', 'broad', 'bug', 'butterfli', 'buy', 'call', 'cant', 'charm', 'choru', 'close', 'cop', 'cuf', 'curtain', 'damn', 'drug', 'ear', 'eat', 'end', 'episod', 'fake', 'fck', 'forev', 'free', 'freeman', 'front', 'girl', 'hand', 'harm', 'heaven', 'hit', 'hold', 'hous', 'hug', 'king', 'kiss', 'knock', 'latifah', 'lean', 'like', 'lil', 'lost', 'lucki', 'magic', 'major', 'mama', 'map', 'mariah', 'maybach', 'milk', 'mine', 'miss', 'momma', 'morgan', 'muffin', 'ngga', 'noth', 'one', 'orlando', 'pastri', 'piec', 'plan', 'plane', 'porsch', 'queen', 'question', 'red', 'right', 'road', 'run', 'shit', 'shop', 'shorti', 'sing', 'singin', 'special', 'spoil', 'spree', 'straight', 'stunt', 'super', 'supplier', 'tattoo', 'tip', 'touch', 'treat', 'trip', 'tyson', 'understand', 'wan', 'watch', 'wayn', 'whip', 'wife', 'work', 'wow', 'wrong', 'break', 'done']\n",
      "Hip-Hop\n",
      "Hip-Hop\n"
     ]
    }
   ],
   "source": [
    "for i in range(3):\n",
    "    validate_index = i\n",
    "    bow_vector = train_lyrics_dictionary.doc2bow(validate['lyrics'].iloc[validate_index])\n",
    "    highest_scoring_topic(bow_vector)\n",
    "    print()\n",
    "    print(validate['lyrics'].iloc[validate_index])\n",
    "    bow_vector_words = []\n",
    "    for i in range(len(bow_vector)):\n",
    "        bow_vector_words.append(train_lyrics_dictionary[i])\n",
    "    print(bow_vector_words)\n",
    "    print(validate['genre'].iloc[validate_index])\n",
    "    print(topic_to_genre(predicted_topic))"
   ]
  },
  {
   "cell_type": "code",
   "execution_count": 252,
   "metadata": {},
   "outputs": [
    {
     "name": "stdout",
     "output_type": "stream",
     "text": [
      "13177\n",
      "13177\n",
      "112\n",
      "112\n"
     ]
    }
   ],
   "source": [
    "print(len(validate['lyrics']))\n",
    "print(len(validate['genre']))\n",
    "\n",
    "predicted_genres = []\n",
    "gold_genres = []\n",
    "\n",
    "for i in range(112):\n",
    "    gold_genres.append(validate['genre'].iloc[i])\n",
    "    \n",
    "    bow_vector = train_lyrics_dictionary.doc2bow(validate['lyrics'].iloc[i])\n",
    "    \n",
    "    predicted_topic = highest_scoring_topic(bow_vector)\n",
    "    \n",
    "    predicted_genres.append(topic_to_genre(predicted_topic))\n",
    "\n",
    "print(len(predicted_genres))\n",
    "print(len(gold_genres))\n",
    "\n"
   ]
  },
  {
   "cell_type": "code",
   "execution_count": 87,
   "metadata": {},
   "outputs": [
    {
     "name": "stdout",
     "output_type": "stream",
     "text": [
      "              precision    recall  f1-score   support\n",
      "\n",
      "     Hip-Hop      0.260     0.929     0.406        28\n",
      "       Metal      0.125     0.048     0.069        21\n",
      "         Pop      0.667     0.065     0.118        31\n",
      "        Rock      0.000     0.000     0.000        32\n",
      "\n",
      "    accuracy                          0.259       112\n",
      "   macro avg      0.263     0.260     0.148       112\n",
      "weighted avg      0.273     0.259     0.147       112\n",
      "\n"
     ]
    }
   ],
   "source": [
    "from sklearn.metrics import classification_report\n",
    "\n",
    "report = classification_report(gold_genres,predicted_genres,digits = 3)\n",
    "\n",
    "print(report)"
   ]
  },
  {
   "cell_type": "markdown",
   "metadata": {},
   "source": [
    "## **User Test one lyric as input**"
   ]
  },
  {
   "cell_type": "markdown",
   "metadata": {},
   "source": [
    "The user can choose the index of the song that they want the genre and sentiment to be predicted of, and a wordcloud, below."
   ]
  },
  {
   "cell_type": "code",
   "execution_count": 243,
   "metadata": {},
   "outputs": [],
   "source": [
    "#Test the lyric with this index\n",
    "# The user can choose this index.\n",
    "test_index = 21"
   ]
  },
  {
   "cell_type": "code",
   "execution_count": 244,
   "metadata": {},
   "outputs": [],
   "source": [
    "#To get the original lyrics of a processed song from the train or test set\n",
    "og_index = test.iloc[test_index]['index']\n",
    "og_lyric = data_original.iloc[og_index]['lyrics']"
   ]
  },
  {
   "cell_type": "markdown",
   "metadata": {},
   "source": [
    "**Genre prediction**"
   ]
  },
  {
   "cell_type": "code",
   "execution_count": 245,
   "metadata": {},
   "outputs": [],
   "source": [
    "bow_vector = train_lyrics_dictionary.doc2bow(test['lyrics'].iloc[test_index])\n",
    "prediction_of_genre = topic_to_genre(highest_scoring_topic(bow_vector))"
   ]
  },
  {
   "cell_type": "markdown",
   "metadata": {},
   "source": [
    "**Sentiment analysis**"
   ]
  },
  {
   "cell_type": "code",
   "execution_count": 246,
   "metadata": {},
   "outputs": [],
   "source": [
    "sentiment_vader_output = vader_model.polarity_scores(og_lyric)\n",
    "sentiment = vader_output_to_label(sentiment_vader_output)"
   ]
  },
  {
   "cell_type": "code",
   "execution_count": 247,
   "metadata": {},
   "outputs": [],
   "source": [
    "if sentiment == 'positive':\n",
    "    lower_colour = 60\n",
    "    upper_colour = 100\n",
    "elif sentiment == 'neutral':\n",
    "    lower_colour = 25\n",
    "    upper_colour = 60\n",
    "elif sentiment == 'negative':\n",
    "    lower_colour = 0\n",
    "    upper_colour = 20"
   ]
  },
  {
   "cell_type": "markdown",
   "metadata": {},
   "source": [
    "**Wordcloud**  \n",
    "This is a wordcloud for the song that is used in the test above"
   ]
  },
  {
   "cell_type": "code",
   "execution_count": 248,
   "metadata": {},
   "outputs": [],
   "source": [
    "dict_one_test = {}\n",
    "for i in range(len(bow_vector)):\n",
    "    dict_one_test.update( {train_lyrics_dictionary[bow_vector[i][0]] : bow_vector[i][1]} )"
   ]
  },
  {
   "cell_type": "code",
   "execution_count": 249,
   "metadata": {},
   "outputs": [],
   "source": [
    "def grey_color_func(word, font_size, position, orientation, random_state=None,\n",
    "                    **kwargs):\n",
    "    return \"hsl(%d, %d%%, %d%%)\" % (random.randint(lower_colour, upper_colour), random.randint(60, 100), random.randint(25, 50))"
   ]
  },
  {
   "cell_type": "code",
   "execution_count": 250,
   "metadata": {},
   "outputs": [
    {
     "data": {
      "image/png": "[encoded data removed]",
      "text/plain": [
       "<Figure size 432x288 with 1 Axes>"
      ]
     },
     "metadata": {
      "needs_background": "light"
     },
     "output_type": "display_data"
    }
   ],
   "source": [
    "wordcloud = WordCloud(background_color='white').generate_from_frequencies(dict_one_test)\n",
    "plt.imshow(wordcloud.recolor(color_func=grey_color_func), interpolation='bilinear')\n",
    "plt.axis(\"off\")\n",
    "plt.show()"
   ]
  },
  {
   "cell_type": "code",
   "execution_count": 251,
   "metadata": {},
   "outputs": [
    {
     "name": "stdout",
     "output_type": "stream",
     "text": [
      "The predicted genre of this song is:  Hip-Hop\n",
      "The lyrics of the song 'you-ll-never-know' by ariana-grande has a negative sentiment.\n"
     ]
    }
   ],
   "source": [
    "print(\"The predicted genre of this song is: \", prediction_of_genre)\n",
    "print(\"The lyrics of the song '%s' by %s has a %s sentiment.\" %(test['song'].iloc[index_of_test_lyric], test['artist'].iloc[index_of_test_lyric], sentiment))\n"
   ]
  },
  {
   "cell_type": "code",
   "execution_count": null,
   "metadata": {},
   "outputs": [],
   "source": []
  }
 ],
 "metadata": {
  "kernelspec": {
   "display_name": "Python 3",
   "language": "python",
   "name": "python3"
  },
  "language_info": {
   "codemirror_mode": {
    "name": "ipython",
    "version": 3
   },
   "file_extension": ".py",
   "mimetype": "text/x-python",
   "name": "python",
   "nbconvert_exporter": "python",
   "pygments_lexer": "ipython3",
   "version": "3.7.4"
  }
 },
 "nbformat": 4,
 "nbformat_minor": 4
}
